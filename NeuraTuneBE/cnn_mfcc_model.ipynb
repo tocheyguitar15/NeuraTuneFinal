{
 "cells": [
  {
   "cell_type": "code",
   "execution_count": 8,
   "metadata": {},
   "outputs": [],
   "source": [
    "import sklearn\n",
    "import json\n",
    "import numpy as np\n",
    "\n",
    "DATASET_PATH = \"../../musicDataf.json\"\n",
    "\n",
    "def load_data(dataset_path):\n",
    "    with open(dataset_path, \"r\") as fp:\n",
    "        data = json.load(fp)\n",
    "\n",
    "    #convert lists to numpy\n",
    "    inputs = np.array(data[\"mfcc\"])\n",
    "    targets = np.array(data[\"labels\"])\n",
    "\n",
    "    return inputs, targets"
   ]
  },
  {
   "cell_type": "code",
   "execution_count": 9,
   "metadata": {},
   "outputs": [],
   "source": [
    "inputs, targets = load_data(DATASET_PATH)"
   ]
  },
  {
   "cell_type": "code",
   "execution_count": 10,
   "metadata": {},
   "outputs": [
    {
     "data": {
      "text/plain": [
       "(9996, 130, 13)"
      ]
     },
     "execution_count": 10,
     "metadata": {},
     "output_type": "execute_result"
    }
   ],
   "source": [
    "inputs.shape"
   ]
  },
  {
   "cell_type": "code",
   "execution_count": 11,
   "metadata": {},
   "outputs": [],
   "source": [
    "from sklearn.model_selection import train_test_split\n",
    "in_train, in_test, tar_train, tar_test = train_test_split(inputs, targets, test_size=0.3)"
   ]
  },
  {
   "cell_type": "code",
   "execution_count": 12,
   "metadata": {},
   "outputs": [],
   "source": [
    "import tensorflow as tf\n",
    "from tensorflow import keras"
   ]
  },
  {
   "cell_type": "code",
   "execution_count": 13,
   "metadata": {},
   "outputs": [],
   "source": [
    "from sklearn.model_selection import train_test_split\n",
    "def prepare_dataset(test_size, validation_size):\n",
    "    X, y = load_data(DATASET_PATH)\n",
    "\n",
    "    # create train, validation and test split\n",
    "    X_train, X_test, y_train, y_test = train_test_split(X, y, test_size=test_size)\n",
    "    X_train, X_validation, y_train, y_validation = train_test_split(X_train, y_train, test_size=validation_size)\n",
    "    # print(X_train)\n",
    "    # add an axis to input sets\n",
    "    X_train = X_train[..., np.newaxis]\n",
    "    # print(X_train)\n",
    "    X_validation = X_validation[..., np.newaxis]\n",
    "    X_test = X_test[..., np.newaxis]\n",
    "\n",
    "    return X_train, X_validation, X_test, y_train, y_validation, y_test"
   ]
  },
  {
   "cell_type": "code",
   "execution_count": 14,
   "metadata": {},
   "outputs": [],
   "source": [
    "def build_model(input_shape):\n",
    "    model = keras.Sequential()\n",
    "\n",
    "    # 1st conv layer\n",
    "    model.add(keras.layers.Conv2D(32, (3, 3), activation='relu', input_shape=input_shape))\n",
    "    model.add(keras.layers.MaxPooling2D((3, 3), strides=(2, 2), padding='same'))\n",
    "    model.add(keras.layers.BatchNormalization())\n",
    "\n",
    "    # 2nd conv layer\n",
    "    model.add(keras.layers.Conv2D(32, (3, 3), activation='relu'))\n",
    "    model.add(keras.layers.MaxPooling2D((3, 3), strides=(2, 2), padding='same'))\n",
    "    model.add(keras.layers.BatchNormalization())\n",
    "\n",
    "    # 3rd conv layer\n",
    "    model.add(keras.layers.Conv2D(32, (2, 2), activation='relu'))\n",
    "    model.add(keras.layers.MaxPooling2D((2, 2), strides=(2, 2), padding='same'))\n",
    "    model.add(keras.layers.BatchNormalization())\n",
    "\n",
    "    # flatten output and feed it into dense layer\n",
    "    model.add(keras.layers.Flatten())\n",
    "    model.add(keras.layers.Dense(64, activation='relu'))\n",
    "    model.add(keras.layers.Dropout(0.3))\n",
    "\n",
    "    # output layer\n",
    "    model.add(keras.layers.Dense(10, activation='softmax'))\n",
    "\n",
    "    return model"
   ]
  },
  {
   "cell_type": "code",
   "execution_count": 15,
   "metadata": {},
   "outputs": [
    {
     "data": {
      "text/plain": [
       "((5997, 130, 13, 1), (2499, 130, 13, 1), (1500, 130, 13, 1))"
      ]
     },
     "execution_count": 15,
     "metadata": {},
     "output_type": "execute_result"
    }
   ],
   "source": [
    "X_train, X_validation, X_test, y_train, y_validation, y_test = prepare_dataset(0.25, 0.2)\n",
    "\n",
    "# create network\n",
    "X_train.shape, X_test.shape, X_validation.shape"
   ]
  },
  {
   "cell_type": "code",
   "execution_count": 16,
   "metadata": {},
   "outputs": [],
   "source": [
    "input_shape = (X_train.shape[1], X_train.shape[2], 1)\n",
    "model = build_model(input_shape)\n",
    "\n",
    "# compile model\n",
    "optimiser = keras.optimizers.Adam(learning_rate=0.0001)\n",
    "model.compile(optimizer=optimiser,\n",
    "                loss='sparse_categorical_crossentropy',\n",
    "                metrics=['accuracy'])"
   ]
  },
  {
   "cell_type": "code",
   "execution_count": 17,
   "metadata": {},
   "outputs": [
    {
     "name": "stdout",
     "output_type": "stream",
     "text": [
      "Epoch 1/100\n",
      "188/188 [==============================] - 8s 38ms/step - loss: 2.3612 - accuracy: 0.2336 - val_loss: 1.8024 - val_accuracy: 0.3500\n",
      "Epoch 2/100\n",
      "188/188 [==============================] - 7s 38ms/step - loss: 1.8106 - accuracy: 0.3745 - val_loss: 1.5482 - val_accuracy: 0.4427\n",
      "Epoch 3/100\n",
      "188/188 [==============================] - 8s 41ms/step - loss: 1.6210 - accuracy: 0.4279 - val_loss: 1.4103 - val_accuracy: 0.4833\n",
      "Epoch 4/100\n",
      "188/188 [==============================] - 9s 46ms/step - loss: 1.5118 - accuracy: 0.4594 - val_loss: 1.3260 - val_accuracy: 0.5133\n",
      "Epoch 5/100\n",
      "188/188 [==============================] - 9s 45ms/step - loss: 1.4314 - accuracy: 0.4929 - val_loss: 1.2656 - val_accuracy: 0.5287\n",
      "Epoch 6/100\n",
      "188/188 [==============================] - 8s 45ms/step - loss: 1.3705 - accuracy: 0.5024 - val_loss: 1.2109 - val_accuracy: 0.5533\n",
      "Epoch 7/100\n",
      "188/188 [==============================] - 9s 47ms/step - loss: 1.3101 - accuracy: 0.5346 - val_loss: 1.1842 - val_accuracy: 0.5533\n",
      "Epoch 8/100\n",
      "188/188 [==============================] - 9s 45ms/step - loss: 1.2542 - accuracy: 0.5451 - val_loss: 1.1417 - val_accuracy: 0.5793\n",
      "Epoch 9/100\n",
      "188/188 [==============================] - 8s 44ms/step - loss: 1.1963 - accuracy: 0.5678 - val_loss: 1.1216 - val_accuracy: 0.5973\n",
      "Epoch 10/100\n",
      "188/188 [==============================] - 8s 40ms/step - loss: 1.1610 - accuracy: 0.5896 - val_loss: 1.0869 - val_accuracy: 0.6087\n",
      "Epoch 11/100\n",
      "188/188 [==============================] - 9s 47ms/step - loss: 1.1107 - accuracy: 0.6055 - val_loss: 1.0406 - val_accuracy: 0.6247\n",
      "Epoch 12/100\n",
      "188/188 [==============================] - 8s 44ms/step - loss: 1.0927 - accuracy: 0.6166 - val_loss: 1.0265 - val_accuracy: 0.6340\n",
      "Epoch 13/100\n",
      "188/188 [==============================] - 6s 32ms/step - loss: 1.0570 - accuracy: 0.6291 - val_loss: 0.9817 - val_accuracy: 0.6487\n",
      "Epoch 14/100\n",
      "188/188 [==============================] - 4s 21ms/step - loss: 1.0268 - accuracy: 0.6340 - val_loss: 0.9739 - val_accuracy: 0.6533\n",
      "Epoch 15/100\n",
      "188/188 [==============================] - 4s 20ms/step - loss: 1.0003 - accuracy: 0.6468 - val_loss: 0.9492 - val_accuracy: 0.6640\n",
      "Epoch 16/100\n",
      "188/188 [==============================] - 4s 21ms/step - loss: 0.9721 - accuracy: 0.6593 - val_loss: 0.9481 - val_accuracy: 0.6547\n",
      "Epoch 17/100\n",
      "188/188 [==============================] - 7s 37ms/step - loss: 0.9477 - accuracy: 0.6652 - val_loss: 0.9169 - val_accuracy: 0.6733\n",
      "Epoch 18/100\n",
      "188/188 [==============================] - 8s 43ms/step - loss: 0.9087 - accuracy: 0.6848 - val_loss: 0.9323 - val_accuracy: 0.6733\n",
      "Epoch 19/100\n",
      "188/188 [==============================] - 8s 43ms/step - loss: 0.8963 - accuracy: 0.6832 - val_loss: 0.9259 - val_accuracy: 0.6740\n",
      "Epoch 20/100\n",
      "188/188 [==============================] - 8s 43ms/step - loss: 0.8886 - accuracy: 0.6882 - val_loss: 0.8924 - val_accuracy: 0.6853\n",
      "Epoch 21/100\n",
      "188/188 [==============================] - 8s 44ms/step - loss: 0.8587 - accuracy: 0.6998 - val_loss: 0.8688 - val_accuracy: 0.6987\n",
      "Epoch 22/100\n",
      "188/188 [==============================] - 8s 45ms/step - loss: 0.8299 - accuracy: 0.7087 - val_loss: 0.8550 - val_accuracy: 0.7053\n",
      "Epoch 23/100\n",
      "188/188 [==============================] - 8s 45ms/step - loss: 0.8069 - accuracy: 0.7144 - val_loss: 0.8489 - val_accuracy: 0.7033\n",
      "Epoch 24/100\n",
      "188/188 [==============================] - 8s 44ms/step - loss: 0.7881 - accuracy: 0.7222 - val_loss: 0.8579 - val_accuracy: 0.7000\n",
      "Epoch 25/100\n",
      "188/188 [==============================] - 9s 45ms/step - loss: 0.7836 - accuracy: 0.7274 - val_loss: 0.8378 - val_accuracy: 0.7107\n",
      "Epoch 26/100\n",
      "188/188 [==============================] - 8s 45ms/step - loss: 0.7464 - accuracy: 0.7402 - val_loss: 0.8223 - val_accuracy: 0.7187\n",
      "Epoch 27/100\n",
      "188/188 [==============================] - 9s 45ms/step - loss: 0.7300 - accuracy: 0.7434 - val_loss: 0.8040 - val_accuracy: 0.7253\n",
      "Epoch 28/100\n",
      "188/188 [==============================] - 8s 43ms/step - loss: 0.7348 - accuracy: 0.7442 - val_loss: 0.8197 - val_accuracy: 0.7233\n",
      "Epoch 29/100\n",
      "188/188 [==============================] - 7s 38ms/step - loss: 0.7020 - accuracy: 0.7597 - val_loss: 0.8312 - val_accuracy: 0.7107\n",
      "Epoch 30/100\n",
      "188/188 [==============================] - 4s 20ms/step - loss: 0.6900 - accuracy: 0.7537 - val_loss: 0.7848 - val_accuracy: 0.7260\n",
      "Epoch 31/100\n",
      "188/188 [==============================] - 4s 21ms/step - loss: 0.6778 - accuracy: 0.7639 - val_loss: 0.8013 - val_accuracy: 0.7267\n",
      "Epoch 32/100\n",
      "188/188 [==============================] - 4s 20ms/step - loss: 0.6614 - accuracy: 0.7650 - val_loss: 0.7781 - val_accuracy: 0.7307\n",
      "Epoch 33/100\n",
      "188/188 [==============================] - 4s 20ms/step - loss: 0.6508 - accuracy: 0.7709 - val_loss: 0.7704 - val_accuracy: 0.7420\n",
      "Epoch 34/100\n",
      "188/188 [==============================] - 4s 20ms/step - loss: 0.6281 - accuracy: 0.7791 - val_loss: 0.7745 - val_accuracy: 0.7380\n",
      "Epoch 35/100\n",
      "188/188 [==============================] - 4s 20ms/step - loss: 0.6200 - accuracy: 0.7807 - val_loss: 0.7615 - val_accuracy: 0.7320\n",
      "Epoch 36/100\n",
      "188/188 [==============================] - 4s 21ms/step - loss: 0.6169 - accuracy: 0.7917 - val_loss: 0.7789 - val_accuracy: 0.7327\n",
      "Epoch 37/100\n",
      "188/188 [==============================] - 4s 21ms/step - loss: 0.6127 - accuracy: 0.7874 - val_loss: 0.7598 - val_accuracy: 0.7447\n",
      "Epoch 38/100\n",
      "188/188 [==============================] - 4s 21ms/step - loss: 0.5775 - accuracy: 0.7979 - val_loss: 0.8294 - val_accuracy: 0.7227\n",
      "Epoch 39/100\n",
      "188/188 [==============================] - 5s 27ms/step - loss: 0.5943 - accuracy: 0.7959 - val_loss: 0.7595 - val_accuracy: 0.7427\n",
      "Epoch 40/100\n",
      "188/188 [==============================] - 8s 45ms/step - loss: 0.5668 - accuracy: 0.8029 - val_loss: 0.7858 - val_accuracy: 0.7347\n",
      "Epoch 41/100\n",
      "188/188 [==============================] - 9s 46ms/step - loss: 0.5460 - accuracy: 0.8097 - val_loss: 0.7742 - val_accuracy: 0.7507\n",
      "Epoch 42/100\n",
      "188/188 [==============================] - 9s 46ms/step - loss: 0.5591 - accuracy: 0.8086 - val_loss: 0.7454 - val_accuracy: 0.7507\n",
      "Epoch 43/100\n",
      "188/188 [==============================] - 9s 46ms/step - loss: 0.5395 - accuracy: 0.8136 - val_loss: 0.7507 - val_accuracy: 0.7507\n",
      "Epoch 44/100\n",
      "188/188 [==============================] - 19s 103ms/step - loss: 0.5271 - accuracy: 0.8156 - val_loss: 0.7920 - val_accuracy: 0.7353\n",
      "Epoch 45/100\n",
      "188/188 [==============================] - 15s 78ms/step - loss: 0.5125 - accuracy: 0.8204 - val_loss: 0.7363 - val_accuracy: 0.7553\n",
      "Epoch 46/100\n",
      "188/188 [==============================] - 9s 50ms/step - loss: 0.5173 - accuracy: 0.8161 - val_loss: 0.7324 - val_accuracy: 0.7553\n",
      "Epoch 47/100\n",
      "188/188 [==============================] - 9s 50ms/step - loss: 0.5089 - accuracy: 0.8232 - val_loss: 0.7228 - val_accuracy: 0.7547\n",
      "Epoch 48/100\n",
      "188/188 [==============================] - 9s 47ms/step - loss: 0.5041 - accuracy: 0.8246 - val_loss: 0.7400 - val_accuracy: 0.7507\n",
      "Epoch 49/100\n",
      "188/188 [==============================] - 8s 41ms/step - loss: 0.4885 - accuracy: 0.8289 - val_loss: 0.7468 - val_accuracy: 0.7600\n",
      "Epoch 50/100\n",
      "188/188 [==============================] - 8s 44ms/step - loss: 0.4830 - accuracy: 0.8266 - val_loss: 0.7284 - val_accuracy: 0.7553\n",
      "Epoch 51/100\n",
      "188/188 [==============================] - 8s 41ms/step - loss: 0.4761 - accuracy: 0.8364 - val_loss: 0.7427 - val_accuracy: 0.7440\n",
      "Epoch 52/100\n",
      "188/188 [==============================] - 5s 28ms/step - loss: 0.4603 - accuracy: 0.8386 - val_loss: 0.7402 - val_accuracy: 0.7593\n",
      "Epoch 53/100\n",
      "188/188 [==============================] - 4s 22ms/step - loss: 0.4605 - accuracy: 0.8371 - val_loss: 0.7293 - val_accuracy: 0.7567\n",
      "Epoch 54/100\n",
      "188/188 [==============================] - 4s 23ms/step - loss: 0.4481 - accuracy: 0.8433 - val_loss: 0.7428 - val_accuracy: 0.7560\n",
      "Epoch 55/100\n",
      "188/188 [==============================] - 4s 23ms/step - loss: 0.4576 - accuracy: 0.8403 - val_loss: 0.7227 - val_accuracy: 0.7627\n",
      "Epoch 56/100\n",
      "188/188 [==============================] - 4s 21ms/step - loss: 0.4239 - accuracy: 0.8513 - val_loss: 0.7390 - val_accuracy: 0.7660\n",
      "Epoch 57/100\n",
      "188/188 [==============================] - 4s 22ms/step - loss: 0.4275 - accuracy: 0.8496 - val_loss: 0.7656 - val_accuracy: 0.7573\n",
      "Epoch 58/100\n",
      "188/188 [==============================] - 4s 21ms/step - loss: 0.4220 - accuracy: 0.8523 - val_loss: 0.7481 - val_accuracy: 0.7527\n",
      "Epoch 59/100\n",
      "188/188 [==============================] - 4s 20ms/step - loss: 0.4252 - accuracy: 0.8488 - val_loss: 0.7532 - val_accuracy: 0.7533\n",
      "Epoch 60/100\n",
      "188/188 [==============================] - 4s 22ms/step - loss: 0.4050 - accuracy: 0.8549 - val_loss: 0.7364 - val_accuracy: 0.7587\n",
      "Epoch 61/100\n",
      "188/188 [==============================] - 4s 21ms/step - loss: 0.4111 - accuracy: 0.8524 - val_loss: 0.7797 - val_accuracy: 0.7500\n",
      "Epoch 62/100\n",
      "188/188 [==============================] - 4s 22ms/step - loss: 0.4040 - accuracy: 0.8609 - val_loss: 0.7180 - val_accuracy: 0.7687\n",
      "Epoch 63/100\n",
      "188/188 [==============================] - 4s 22ms/step - loss: 0.3943 - accuracy: 0.8636 - val_loss: 0.7562 - val_accuracy: 0.7560\n",
      "Epoch 64/100\n",
      "188/188 [==============================] - 4s 22ms/step - loss: 0.3917 - accuracy: 0.8616 - val_loss: 0.7269 - val_accuracy: 0.7627\n",
      "Epoch 65/100\n",
      "188/188 [==============================] - 4s 22ms/step - loss: 0.3675 - accuracy: 0.8714 - val_loss: 0.7582 - val_accuracy: 0.7607\n",
      "Epoch 66/100\n",
      "188/188 [==============================] - 4s 22ms/step - loss: 0.3801 - accuracy: 0.8699 - val_loss: 0.7257 - val_accuracy: 0.7593\n",
      "Epoch 67/100\n",
      "188/188 [==============================] - 4s 24ms/step - loss: 0.3735 - accuracy: 0.8683 - val_loss: 0.7487 - val_accuracy: 0.7560\n",
      "Epoch 68/100\n",
      "188/188 [==============================] - 5s 25ms/step - loss: 0.3585 - accuracy: 0.8746 - val_loss: 0.7403 - val_accuracy: 0.7673\n",
      "Epoch 69/100\n",
      "188/188 [==============================] - 5s 28ms/step - loss: 0.3600 - accuracy: 0.8749 - val_loss: 0.7935 - val_accuracy: 0.7427\n",
      "Epoch 70/100\n",
      "188/188 [==============================] - 6s 32ms/step - loss: 0.3461 - accuracy: 0.8791 - val_loss: 0.7280 - val_accuracy: 0.7640\n",
      "Epoch 71/100\n",
      "188/188 [==============================] - 7s 35ms/step - loss: 0.3422 - accuracy: 0.8853 - val_loss: 0.7475 - val_accuracy: 0.7600\n",
      "Epoch 72/100\n",
      "188/188 [==============================] - 6s 31ms/step - loss: 0.3305 - accuracy: 0.8858 - val_loss: 0.7851 - val_accuracy: 0.7373\n",
      "Epoch 73/100\n",
      "188/188 [==============================] - 5s 28ms/step - loss: 0.3280 - accuracy: 0.8819 - val_loss: 0.7423 - val_accuracy: 0.7647\n",
      "Epoch 74/100\n",
      "188/188 [==============================] - 5s 28ms/step - loss: 0.3254 - accuracy: 0.8883 - val_loss: 0.7512 - val_accuracy: 0.7573\n",
      "Epoch 75/100\n",
      "188/188 [==============================] - 5s 27ms/step - loss: 0.3235 - accuracy: 0.8894 - val_loss: 0.7592 - val_accuracy: 0.7580\n",
      "Epoch 76/100\n",
      "188/188 [==============================] - 5s 26ms/step - loss: 0.3293 - accuracy: 0.8833 - val_loss: 0.7466 - val_accuracy: 0.7620\n",
      "Epoch 77/100\n",
      "188/188 [==============================] - 7s 35ms/step - loss: 0.3223 - accuracy: 0.8873 - val_loss: 0.7619 - val_accuracy: 0.7707\n",
      "Epoch 78/100\n",
      "188/188 [==============================] - 8s 43ms/step - loss: 0.3067 - accuracy: 0.8918 - val_loss: 0.7438 - val_accuracy: 0.7687\n",
      "Epoch 79/100\n",
      "188/188 [==============================] - 8s 41ms/step - loss: 0.3000 - accuracy: 0.8941 - val_loss: 0.7830 - val_accuracy: 0.7560\n",
      "Epoch 80/100\n",
      "188/188 [==============================] - 8s 43ms/step - loss: 0.2922 - accuracy: 0.9001 - val_loss: 0.7547 - val_accuracy: 0.7633\n",
      "Epoch 81/100\n",
      "188/188 [==============================] - 8s 41ms/step - loss: 0.2926 - accuracy: 0.8978 - val_loss: 0.7830 - val_accuracy: 0.7547\n",
      "Epoch 82/100\n",
      "188/188 [==============================] - 8s 42ms/step - loss: 0.2933 - accuracy: 0.8969 - val_loss: 0.7517 - val_accuracy: 0.7640\n",
      "Epoch 83/100\n",
      "188/188 [==============================] - 8s 40ms/step - loss: 0.3012 - accuracy: 0.8941 - val_loss: 0.7640 - val_accuracy: 0.7627\n",
      "Epoch 84/100\n",
      "188/188 [==============================] - 8s 43ms/step - loss: 0.2876 - accuracy: 0.9050 - val_loss: 0.7977 - val_accuracy: 0.7520\n",
      "Epoch 85/100\n",
      "188/188 [==============================] - 4s 21ms/step - loss: 0.2870 - accuracy: 0.9010 - val_loss: 0.7555 - val_accuracy: 0.7640\n",
      "Epoch 86/100\n",
      "188/188 [==============================] - 3s 18ms/step - loss: 0.2903 - accuracy: 0.9011 - val_loss: 0.8194 - val_accuracy: 0.7567\n",
      "Epoch 87/100\n",
      "188/188 [==============================] - 4s 19ms/step - loss: 0.2797 - accuracy: 0.9061 - val_loss: 0.8206 - val_accuracy: 0.7540\n",
      "Epoch 88/100\n",
      "188/188 [==============================] - 4s 20ms/step - loss: 0.2679 - accuracy: 0.9078 - val_loss: 0.8097 - val_accuracy: 0.7553\n",
      "Epoch 89/100\n",
      "188/188 [==============================] - 5s 29ms/step - loss: 0.2723 - accuracy: 0.9058 - val_loss: 0.8227 - val_accuracy: 0.7447\n",
      "Epoch 90/100\n",
      "188/188 [==============================] - 10s 52ms/step - loss: 0.2676 - accuracy: 0.9075 - val_loss: 0.7885 - val_accuracy: 0.7633\n",
      "Epoch 91/100\n",
      "188/188 [==============================] - 10s 51ms/step - loss: 0.2521 - accuracy: 0.9130 - val_loss: 0.7814 - val_accuracy: 0.7587\n",
      "Epoch 92/100\n",
      "188/188 [==============================] - 10s 51ms/step - loss: 0.2472 - accuracy: 0.9180 - val_loss: 0.7928 - val_accuracy: 0.7607\n",
      "Epoch 93/100\n",
      "188/188 [==============================] - 10s 53ms/step - loss: 0.2588 - accuracy: 0.9120 - val_loss: 0.7799 - val_accuracy: 0.7620\n",
      "Epoch 94/100\n",
      "188/188 [==============================] - 9s 49ms/step - loss: 0.2357 - accuracy: 0.9163 - val_loss: 0.7992 - val_accuracy: 0.7653\n",
      "Epoch 95/100\n",
      "188/188 [==============================] - 8s 41ms/step - loss: 0.2412 - accuracy: 0.9163 - val_loss: 0.7855 - val_accuracy: 0.7613\n",
      "Epoch 96/100\n",
      "188/188 [==============================] - 4s 20ms/step - loss: 0.2385 - accuracy: 0.9150 - val_loss: 0.8055 - val_accuracy: 0.7613\n",
      "Epoch 97/100\n",
      "188/188 [==============================] - 4s 20ms/step - loss: 0.2423 - accuracy: 0.9155 - val_loss: 0.7948 - val_accuracy: 0.7620\n",
      "Epoch 98/100\n",
      "188/188 [==============================] - 7s 36ms/step - loss: 0.2308 - accuracy: 0.9221 - val_loss: 0.8298 - val_accuracy: 0.7547\n",
      "Epoch 99/100\n",
      "188/188 [==============================] - 8s 44ms/step - loss: 0.2277 - accuracy: 0.9236 - val_loss: 0.8004 - val_accuracy: 0.7620\n",
      "Epoch 100/100\n",
      "188/188 [==============================] - 8s 41ms/step - loss: 0.2343 - accuracy: 0.9186 - val_loss: 0.7927 - val_accuracy: 0.7620\n"
     ]
    },
    {
     "data": {
      "text/plain": [
       "<keras.src.callbacks.History at 0x2459c6eee50>"
      ]
     },
     "execution_count": 17,
     "metadata": {},
     "output_type": "execute_result"
    }
   ],
   "source": [
    "model.fit(X_train,y_train, validation_data=(X_validation,y_validation), batch_size=32, epochs=100)"
   ]
  },
  {
   "cell_type": "code",
   "execution_count": 18,
   "metadata": {},
   "outputs": [
    {
     "name": "stdout",
     "output_type": "stream",
     "text": [
      "79/79 [==============================] - 1s 8ms/step - loss: 0.8151 - accuracy: 0.7591\n"
     ]
    },
    {
     "data": {
      "text/plain": [
       "[0.8150926828384399, 0.7591036558151245]"
      ]
     },
     "execution_count": 18,
     "metadata": {},
     "output_type": "execute_result"
    }
   ],
   "source": [
    "model.evaluate(X_test,y_test)"
   ]
  },
  {
   "cell_type": "code",
   "execution_count": 22,
   "metadata": {},
   "outputs": [
    {
     "name": "stdout",
     "output_type": "stream",
     "text": [
      "INFO:tensorflow:Assets written to: cnn_mfcc_model_final\\assets\n"
     ]
    },
    {
     "name": "stderr",
     "output_type": "stream",
     "text": [
      "INFO:tensorflow:Assets written to: cnn_mfcc_model_final\\assets\n"
     ]
    }
   ],
   "source": [
    "model.save(\"cnn_mfcc_model_final\")"
   ]
  },
  {
   "cell_type": "code",
   "execution_count": 6,
   "metadata": {},
   "outputs": [],
   "source": [
    "import tensorflow as tf\n",
    "svmodel = tf.keras.models.load_model(\"cnn_mfcc_model_final\")"
   ]
  },
  {
   "cell_type": "code",
   "execution_count": 1,
   "metadata": {},
   "outputs": [],
   "source": [
    "import pickle\n",
    "# pickle.dump(svmodel, open(\"./model_saved\",'wb'))"
   ]
  },
  {
   "cell_type": "code",
   "execution_count": 2,
   "metadata": {},
   "outputs": [
    {
     "name": "stderr",
     "output_type": "stream",
     "text": [
      "WARNING:absl:Skipping variable loading for optimizer 'Adam', because it has 33 variables whereas the saved optimizer has 1 variables. \n"
     ]
    }
   ],
   "source": [
    "model_loaded = pickle.load(open(\"./model_saved\",'rb'))"
   ]
  },
  {
   "cell_type": "code",
   "execution_count": 7,
   "metadata": {},
   "outputs": [
    {
     "ename": "AttributeError",
     "evalue": "'NoneType' object has no attribute 'history'",
     "output_type": "error",
     "traceback": [
      "\u001b[1;31m---------------------------------------------------------------------------\u001b[0m",
      "\u001b[1;31mAttributeError\u001b[0m                            Traceback (most recent call last)",
      "Cell \u001b[1;32mIn[7], line 1\u001b[0m\n\u001b[1;32m----> 1\u001b[0m \u001b[43mmodel_loaded\u001b[49m\u001b[38;5;241;43m.\u001b[39;49m\u001b[43mhistory\u001b[49m\u001b[38;5;241;43m.\u001b[39;49m\u001b[43mhistory\u001b[49m\n",
      "\u001b[1;31mAttributeError\u001b[0m: 'NoneType' object has no attribute 'history'"
     ]
    }
   ],
   "source": [
    "model_loaded.history"
   ]
  },
  {
   "cell_type": "code",
   "execution_count": 3,
   "metadata": {},
   "outputs": [
    {
     "name": "stdout",
     "output_type": "stream",
     "text": [
      "Model: \"sequential\"\n",
      "_________________________________________________________________\n",
      " Layer (type)                Output Shape              Param #   \n",
      "=================================================================\n",
      " conv2d (Conv2D)             (None, 128, 11, 32)       320       \n",
      "                                                                 \n",
      " max_pooling2d (MaxPooling2  (None, 64, 6, 32)         0         \n",
      " D)                                                              \n",
      "                                                                 \n",
      " batch_normalization (Batch  (None, 64, 6, 32)         128       \n",
      " Normalization)                                                  \n",
      "                                                                 \n",
      " conv2d_1 (Conv2D)           (None, 62, 4, 32)         9248      \n",
      "                                                                 \n",
      " max_pooling2d_1 (MaxPoolin  (None, 31, 2, 32)         0         \n",
      " g2D)                                                            \n",
      "                                                                 \n",
      " batch_normalization_1 (Bat  (None, 31, 2, 32)         128       \n",
      " chNormalization)                                                \n",
      "                                                                 \n",
      " conv2d_2 (Conv2D)           (None, 30, 1, 32)         4128      \n",
      "                                                                 \n",
      " max_pooling2d_2 (MaxPoolin  (None, 15, 1, 32)         0         \n",
      " g2D)                                                            \n",
      "                                                                 \n",
      " batch_normalization_2 (Bat  (None, 15, 1, 32)         128       \n",
      " chNormalization)                                                \n",
      "                                                                 \n",
      " flatten (Flatten)           (None, 480)               0         \n",
      "                                                                 \n",
      " dense (Dense)               (None, 64)                30784     \n",
      "                                                                 \n",
      " dropout (Dropout)           (None, 64)                0         \n",
      "                                                                 \n",
      " dense_1 (Dense)             (None, 10)                650       \n",
      "                                                                 \n",
      "=================================================================\n",
      "Total params: 45514 (177.79 KB)\n",
      "Trainable params: 45322 (177.04 KB)\n",
      "Non-trainable params: 192 (768.00 Byte)\n",
      "_________________________________________________________________\n"
     ]
    }
   ],
   "source": [
    "model_loaded.summary()"
   ]
  },
  {
   "cell_type": "code",
   "execution_count": 1,
   "metadata": {},
   "outputs": [],
   "source": [
    "import numpy as np\n",
    "import librosa\n",
    "import os\n",
    "import json\n",
    "import math\n",
    "\n",
    "SAMPLE_RATE = 22050\n",
    "DURATION = 30\n",
    "SAMPLE_PER_TRACK = SAMPLE_RATE * DURATION\n",
    "num_segments = 10\n",
    "n_mfcc=13\n",
    "n_fft=2048\n",
    "hop_length=512\n",
    "num_samples_per_segment = int(SAMPLE_PER_TRACK / num_segments)\n",
    "expected_num_mfcc_vectors_per_segment = math.ceil(num_samples_per_segment/hop_length)"
   ]
  },
  {
   "cell_type": "code",
   "execution_count": 14,
   "metadata": {},
   "outputs": [],
   "source": [
    "import soundfile as sf"
   ]
  },
  {
   "cell_type": "code",
   "execution_count": 2,
   "metadata": {},
   "outputs": [
    {
     "name": "stdout",
     "output_type": "stream",
     "text": [
      "[0. 0. 0. ... 0. 0. 0.]\n"
     ]
    }
   ],
   "source": [
    "file_path = \"C:/Users/Anurag/Downloads/wellerman.wav\"\n",
    "signal, sr = librosa.load(file_path,sr=SAMPLE_RATE)\n",
    "print(signal)"
   ]
  },
  {
   "cell_type": "code",
   "execution_count": 13,
   "metadata": {},
   "outputs": [
    {
     "name": "stdout",
     "output_type": "stream",
     "text": [
      "1/1 [==============================] - 0s 25ms/step\n"
     ]
    },
    {
     "data": {
      "text/plain": [
       "'classical'"
      ]
     },
     "execution_count": 13,
     "metadata": {},
     "output_type": "execute_result"
    }
   ],
   "source": [
    "file_path = \"C:/anurag_work/MusicGenreClassification/data/genres_original/classical/classical.00004.wav\"\n",
    "try:\n",
    "    signal, sr = librosa.load(file_path, sr=SAMPLE_RATE)\n",
    "except:\n",
    "    print(\"shit\")\n",
    "    pass\n",
    "\n",
    "mfcc_data = []\n",
    "\n",
    "for s in range(num_segments):\n",
    "    start_sample = num_samples_per_segment * s\n",
    "    finish_sample = start_sample + num_samples_per_segment\n",
    "\n",
    "\n",
    "    mfcc = librosa.feature.mfcc(y=signal[start_sample:finish_sample], n_fft=n_fft, hop_length=hop_length, n_mfcc=n_mfcc, sr=sr)\n",
    "    mfcc = mfcc.T\n",
    "\n",
    "    #  store mfccs for segment igf it has expected vector length\n",
    "    if len(mfcc) == expected_num_mfcc_vectors_per_segment:\n",
    "        mfcc_data.append(mfcc.tolist())\n",
    "\n",
    "mfcc_data = np.array(mfcc_data)\n",
    "\n",
    "y_pred = model_loaded.predict(mfcc_data)\n",
    "\n",
    "predictions = {}\n",
    "key = None\n",
    "for i in y_pred:\n",
    "    try:\n",
    "        predictions[np.argmax(i)]+=1\n",
    "        if key==None or predictions[np.argmax(i)]>predictions[key]:\n",
    "            key = np.argmax(i)\n",
    "    except:\n",
    "        predictions[np.argmax(i)] = 1\n",
    "\n",
    "class_list = [\"blues\",\"classical\",\"country\",\"disco\",\"hiphop\",\"jazz\",\"metal\",\"pop\",\"reggae\",\"rock\"]\n",
    "class_list[key]"
   ]
  },
  {
   "cell_type": "code",
   "execution_count": null,
   "metadata": {},
   "outputs": [],
   "source": []
  }
 ],
 "metadata": {
  "kernelspec": {
   "display_name": "Python 3",
   "language": "python",
   "name": "python3"
  },
  "language_info": {
   "codemirror_mode": {
    "name": "ipython",
    "version": 3
   },
   "file_extension": ".py",
   "mimetype": "text/x-python",
   "name": "python",
   "nbconvert_exporter": "python",
   "pygments_lexer": "ipython3",
   "version": "3.11.3"
  }
 },
 "nbformat": 4,
 "nbformat_minor": 2
}
